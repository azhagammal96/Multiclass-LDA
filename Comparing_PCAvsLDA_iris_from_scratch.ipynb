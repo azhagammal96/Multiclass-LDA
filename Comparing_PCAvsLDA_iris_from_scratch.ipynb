{
 "cells": [
  {
   "cell_type": "markdown",
   "metadata": {},
   "source": [
    "## 2019701026 Q5"
   ]
  },
  {
   "cell_type": "markdown",
   "metadata": {},
   "source": [
    "# Excercise 2\n",
    "\n",
    "In Excercise 1, we computed the LDA for a multi-class problem, the IRIS dataset. In this excercise, we will now compare the LDA and PCA for the IRIS dataset.\n",
    "\n",
    "To revisit, the iris dataset contains measurements for 150 iris flowers from three different species.\n",
    "\n",
    "The three classes in the Iris dataset:\n",
    "1. Iris-setosa (n=50)\n",
    "2. Iris-versicolor (n=50)\n",
    "3. Iris-virginica (n=50)\n",
    "\n",
    "The four features of the Iris dataset:\n",
    "1. sepal length in cm\n",
    "2. sepal width in cm\n",
    "3. petal length in cm\n",
    "4. petal width in cm\n",
    "\n",
    "<img src=\"iris_petal_sepal.png\">\n",
    "\n"
   ]
  },
  {
   "cell_type": "code",
   "execution_count": 1,
   "metadata": {},
   "outputs": [],
   "source": [
    "from sklearn.datasets import make_classification\n",
    "import matplotlib.pyplot as plt\n",
    "import numpy as np\n",
    "import seaborn as sns; sns.set();\n",
    "import pandas as pd\n",
    "from sklearn.model_selection import train_test_split\n",
    "from numpy import pi"
   ]
  },
  {
   "cell_type": "markdown",
   "metadata": {},
   "source": [
    "### Importing the dataset"
   ]
  },
  {
   "cell_type": "code",
   "execution_count": 2,
   "metadata": {},
   "outputs": [
    {
     "data": {
      "text/html": [
       "<div>\n",
       "<style scoped>\n",
       "    .dataframe tbody tr th:only-of-type {\n",
       "        vertical-align: middle;\n",
       "    }\n",
       "\n",
       "    .dataframe tbody tr th {\n",
       "        vertical-align: top;\n",
       "    }\n",
       "\n",
       "    .dataframe thead th {\n",
       "        text-align: right;\n",
       "    }\n",
       "</style>\n",
       "<table border=\"1\" class=\"dataframe\">\n",
       "  <thead>\n",
       "    <tr style=\"text-align: right;\">\n",
       "      <th></th>\n",
       "      <th>sepal-length</th>\n",
       "      <th>sepal-width</th>\n",
       "      <th>petal-length</th>\n",
       "      <th>petal-width</th>\n",
       "      <th>Class</th>\n",
       "    </tr>\n",
       "  </thead>\n",
       "  <tbody>\n",
       "    <tr>\n",
       "      <th>145</th>\n",
       "      <td>6.7</td>\n",
       "      <td>3.0</td>\n",
       "      <td>5.2</td>\n",
       "      <td>2.3</td>\n",
       "      <td>Iris-virginica</td>\n",
       "    </tr>\n",
       "    <tr>\n",
       "      <th>146</th>\n",
       "      <td>6.3</td>\n",
       "      <td>2.5</td>\n",
       "      <td>5.0</td>\n",
       "      <td>1.9</td>\n",
       "      <td>Iris-virginica</td>\n",
       "    </tr>\n",
       "    <tr>\n",
       "      <th>147</th>\n",
       "      <td>6.5</td>\n",
       "      <td>3.0</td>\n",
       "      <td>5.2</td>\n",
       "      <td>2.0</td>\n",
       "      <td>Iris-virginica</td>\n",
       "    </tr>\n",
       "    <tr>\n",
       "      <th>148</th>\n",
       "      <td>6.2</td>\n",
       "      <td>3.4</td>\n",
       "      <td>5.4</td>\n",
       "      <td>2.3</td>\n",
       "      <td>Iris-virginica</td>\n",
       "    </tr>\n",
       "    <tr>\n",
       "      <th>149</th>\n",
       "      <td>5.9</td>\n",
       "      <td>3.0</td>\n",
       "      <td>5.1</td>\n",
       "      <td>1.8</td>\n",
       "      <td>Iris-virginica</td>\n",
       "    </tr>\n",
       "  </tbody>\n",
       "</table>\n",
       "</div>"
      ],
      "text/plain": [
       "     sepal-length  sepal-width  petal-length  petal-width           Class\n",
       "145           6.7          3.0           5.2          2.3  Iris-virginica\n",
       "146           6.3          2.5           5.0          1.9  Iris-virginica\n",
       "147           6.5          3.0           5.2          2.0  Iris-virginica\n",
       "148           6.2          3.4           5.4          2.3  Iris-virginica\n",
       "149           5.9          3.0           5.1          1.8  Iris-virginica"
      ]
     },
     "execution_count": 2,
     "metadata": {},
     "output_type": "execute_result"
    }
   ],
   "source": [
    "url = \"https://archive.ics.uci.edu/ml/machine-learning-databases/iris/iris.data\"\n",
    "names = ['sepal-length', 'sepal-width', 'petal-length', 'petal-width', 'Class']\n",
    "dataset = pd.read_csv(url, names=names)\n",
    "\n",
    "dataset.tail()"
   ]
  },
  {
   "cell_type": "markdown",
   "metadata": {},
   "source": [
    "### Data preprocessing\n",
    "\n",
    "Once dataset is loaded into a pandas data frame object, the first step is to divide dataset into features and corresponding labels and then divide the resultant dataset into training and test sets. The following code divides data into labels and feature set:"
   ]
  },
  {
   "cell_type": "code",
   "execution_count": 3,
   "metadata": {},
   "outputs": [],
   "source": [
    "X = dataset.iloc[:, 0:4].values\n",
    "y = dataset.iloc[:, 4].values"
   ]
  },
  {
   "cell_type": "markdown",
   "metadata": {},
   "source": [
    "The above script assigns the first four columns of the dataset i.e. the feature set to X variable while the values in the fifth column (labels) are assigned to the y variable.\n",
    "\n",
    "The following code divides data into training and test sets:"
   ]
  },
  {
   "cell_type": "code",
   "execution_count": 4,
   "metadata": {},
   "outputs": [],
   "source": [
    "from sklearn.model_selection import train_test_split\n",
    "\n",
    "X_train, X_test, y_train, y_test = train_test_split(X, y, test_size=0.2, random_state=0)"
   ]
  },
  {
   "cell_type": "markdown",
   "metadata": {},
   "source": [
    "#### Feature Scaling\n",
    "\n",
    "We will now perform feature scaling as part of data preprocessing too. For this task, we will be using scikit learn `StandardScalar`."
   ]
  },
  {
   "cell_type": "code",
   "execution_count": 5,
   "metadata": {},
   "outputs": [
    {
     "data": {
      "text/plain": [
       "((30, 4), (30,))"
      ]
     },
     "execution_count": 5,
     "metadata": {},
     "output_type": "execute_result"
    }
   ],
   "source": [
    "from sklearn.preprocessing import StandardScaler\n",
    "\n",
    "sc = StandardScaler()\n",
    "X_train = sc.fit_transform(X_train)\n",
    "X_test = sc.transform(X_test)\n",
    "X_test.shape, y_test.shape"
   ]
  },
  {
   "cell_type": "markdown",
   "metadata": {},
   "source": [
    "## Write your code below\n",
    "\n",
    "Write your code to compute the PCA and LDA on the IRIS dataset below."
   ]
  },
  {
   "cell_type": "markdown",
   "metadata": {},
   "source": [
    "## Training for LDA"
   ]
  },
  {
   "cell_type": "code",
   "execution_count": 6,
   "metadata": {},
   "outputs": [],
   "source": [
    "### WRITE YOUR CODE HERE ####\n",
    "# Calculating covariance of an input matrix\n",
    "def calc_cov_matrix(X_input):\n",
    "    n_samples = np.shape(X_input)[0]\n",
    "    cov_matrix = np.array((1 / (n_samples-1)) * (X_input - X_input.mean(axis=0)).T.dot(X_input - X_input.mean(axis=0)))\n",
    "\n",
    "    return cov_matrix\n",
    "\n",
    "# Training the multiclass LDA model\n",
    "def train(X_train, y_train):\n",
    "    class_X0 = X_train[np.argwhere(y_train == 'Iris-setosa')[:, 0]]      #CLASS1\n",
    "    class_X1 = X_train[np.argwhere(y_train == 'Iris-versicolor')[:, 0]]  #CLASS2\n",
    "    class_X2 = X_train[np.argwhere(y_train == 'Iris-virginica')[:, 0]]   #CLASS3\n",
    "    \n",
    "    #Obtaining mean of 3 classes\n",
    "    class_X0_mean = class_X0.mean(0)  \n",
    "    class_X1_mean = class_X1.mean(0)\n",
    "    class_X2_mean = class_X2.mean(0)\n",
    "    \n",
    "    #Obtaining mean difference between 3 classes\n",
    "    class_mean_diff1 = class_X1_mean - class_X0_mean\n",
    "    class_mean_diff2 = class_X2_mean - class_X0_mean\n",
    "    class_mean_diff3 = class_X2_mean - class_X1_mean\n",
    "    \n",
    "    #Reshaping class mean differences\n",
    "    class_mean_diff1 = class_mean_diff1.reshape((-1, 1))\n",
    "    class_mean_diff2 = class_mean_diff2.reshape((-1, 1))\n",
    "    class_mean_diff3 = class_mean_diff3.reshape((-1, 1))\n",
    "    \n",
    "    #Obtaining between scatter matrix Sb\n",
    "    SB1 = np.dot(class_mean_diff1, class_mean_diff1.T)\n",
    "    SB2 = np.dot(class_mean_diff2, class_mean_diff2.T)\n",
    "    SB3 = np.dot(class_mean_diff3, class_mean_diff3.T)\n",
    "    SB = SB1 + SB2 + SB3\n",
    "#     print(SB.shape)\n",
    "\n",
    "    #Obtaining covariance matrices and eventually within scatter matrix Sw\n",
    "    cov_mat_class_X0 = calc_cov_matrix(class_X0)\n",
    "    cov_mat_class_X1 = calc_cov_matrix(class_X1)\n",
    "    cov_mat_class_X2 = calc_cov_matrix(class_X2)\n",
    "    SW = cov_mat_class_X0 + cov_mat_class_X1 + cov_mat_class_X2 \n",
    "    \n",
    "    #Getting eigenvalues and eigenvectors for (Sw-1)Sb\n",
    "    eigvals, eigvecs = np.linalg.eig(np.linalg.pinv(SW).dot(SB))\n",
    "\n",
    "    #Getting the 2 largest eigenvalues and their corresponding eigenvectors \n",
    "    eig_pairs = [(np.abs(eigvals[i]), eigvecs[:,i]) for i in range(len(eigvals))]\n",
    "    eig_pairs = sorted(eig_pairs, key=lambda k: k[0], reverse=True)\n",
    "    W = np.real(np.hstack((eig_pairs[0][1].reshape(4,1), eig_pairs[1][1].reshape(4,1))))\n",
    "\n",
    "    # Getting the eigenvector with the maximum eigenvalue.\n",
    "    idx = eigvals.argsort()[::-1]\n",
    "    eigvals = eigvals[idx][:1]\n",
    "    weights = np.atleast_2d(eigvecs[:, idx])[:, :1]    \n",
    "    \n",
    "    return weights, W, SB, SW"
   ]
  },
  {
   "cell_type": "code",
   "execution_count": 7,
   "metadata": {},
   "outputs": [],
   "source": [
    "weights, W_LDA, SB, SW= train(X_train, y_train)\n"
   ]
  },
  {
   "cell_type": "markdown",
   "metadata": {},
   "source": [
    "## Training for PCA"
   ]
  },
  {
   "cell_type": "code",
   "execution_count": 8,
   "metadata": {},
   "outputs": [],
   "source": [
    "#Implementing PCA Function\n",
    "\n",
    "def pca_transform(X, n_components):\n",
    "\n",
    "    X_mean = np.mean(X, axis=0)\n",
    "    X_mean = X_mean.reshape(1, -1)\n",
    "#     print(\"This is mean\", X_mean.shape, X_mean)\n",
    "    X -= X_mean\n",
    "#     print(\"This is new X\", X_input.shape)\n",
    "    N = (X.shape)[0]\n",
    "    constant = 1/(N - 1)\n",
    "\n",
    "    # Calculating covariance matrix \n",
    "    cov_matrix = constant * np.dot(X.T, X)\n",
    "    cov_matrix = np.array(cov_matrix, dtype=float)\n",
    "\n",
    "    # Calculating eigen values and eigen vectors (or first n-principal components)\n",
    "    eigenvalues, eigenvectors = np.linalg.eig(cov_matrix)\n",
    "\n",
    "    # Step 4\n",
    "    idx = eigenvalues.argsort()[::-1]\n",
    "    eigenvalues = eigenvalues[idx][:n_components]\n",
    "#     print(\"Shape of eigenvalues\", eigenvalues.shape)\n",
    "    eigenvectors = np.atleast_1d(eigenvectors[:, idx])[:, :n_components]\n",
    "#     print(\"Shape of EigVec\", eigenvectors.shape)\n",
    "    \n",
    "    eig_pairs = [(np.abs(eigenvalues[i]), eigenvectors[:,i]) for i in range(len(eigenvalues))]\n",
    "    eig_pairs = sorted(eig_pairs, key=lambda k: k[0], reverse=True)\n",
    "    W = np.real(np.hstack((eig_pairs[0][1].reshape(4,1), eig_pairs[1][1].reshape(4,1))))\n",
    "    \n",
    "    \n",
    "    \n",
    "    X_projected = np.dot(X, eigenvectors)\n",
    "#     print(\"This is X projected and its shape\",X_projected.shape, X_projected)\n",
    "    eigenvectors = eigenvectors.T\n",
    "#     print(\"EigVec shape\", eigvecs.shape)\n",
    "    return X_projected, eigenvectors, eigenvalues, W"
   ]
  },
  {
   "cell_type": "code",
   "execution_count": 9,
   "metadata": {},
   "outputs": [
    {
     "data": {
      "text/plain": [
       "(4, 2)"
      ]
     },
     "execution_count": 9,
     "metadata": {},
     "output_type": "execute_result"
    }
   ],
   "source": [
    "max_components = np.shape(X)[1]\n",
    "X_projected, principal_components, variances, W_PCA = pca_transform(X_train,max_components)\n",
    "W_PCA.shape"
   ]
  },
  {
   "cell_type": "markdown",
   "metadata": {},
   "source": [
    "## Feature subspaces for LDA with training and testing set (LD1 and LD2)"
   ]
  },
  {
   "cell_type": "code",
   "execution_count": 37,
   "metadata": {},
   "outputs": [
    {
     "data": {
      "image/png": "[encoded data removed]",
      "text/plain": [
       "<Figure size 465.225x360 with 1 Axes>"
      ]
     },
     "metadata": {},
     "output_type": "display_data"
    },
    {
     "data": {
      "image/png": "[encoded data removed]",
      "text/plain": [
       "<Figure size 465.225x360 with 1 Axes>"
      ]
     },
     "metadata": {},
     "output_type": "display_data"
    }
   ],
   "source": [
    "#Training data\n",
    "X_train_lda = X_train.dot(W_LDA)\n",
    "# print(X_train_lda.shape)\n",
    "\n",
    "data=pd.DataFrame(X_train_lda)\n",
    "data['class']=y_train\n",
    "data.columns=[\"LD1\",\"LD2\",\"class\"]\n",
    "\n",
    "\n",
    "markers = ['s', 'x','o']\n",
    "sns.lmplot(x=\"LD1\", y=\"LD2\", data=data, markers=markers,fit_reg=False, hue='class', legend=True)\n",
    "plt.title(\"Training data\")\n",
    "plt.show()\n",
    "\n",
    "\n",
    "#Testing data\n",
    "X_test_lda = X_test.dot(W_LDA)\n",
    "# print(X_train_lda.shape)\n",
    "\n",
    "data=pd.DataFrame(X_test_lda)\n",
    "data['class']=y_test\n",
    "data.columns=[\"LD1\",\"LD2\",\"class\"]\n",
    "\n",
    "\n",
    "markers = ['s', 'x','o']\n",
    "sns.lmplot(x=\"LD1\", y=\"LD2\", data=data, markers=markers,fit_reg=False, hue='class', legend=True)\n",
    "plt.title(\"Testing data\")\n",
    "plt.show()"
   ]
  },
  {
   "cell_type": "markdown",
   "metadata": {},
   "source": [
    "## Feature subspaces for PCA with training and testing set (PC1 and PC2)"
   ]
  },
  {
   "cell_type": "code",
   "execution_count": 38,
   "metadata": {},
   "outputs": [
    {
     "data": {
      "image/png": "[encoded data removed]",
      "text/plain": [
       "<Figure size 465.225x360 with 1 Axes>"
      ]
     },
     "metadata": {},
     "output_type": "display_data"
    },
    {
     "data": {
      "image/png": "[encoded data removed]",
      "text/plain": [
       "<Figure size 465.225x360 with 1 Axes>"
      ]
     },
     "metadata": {},
     "output_type": "display_data"
    }
   ],
   "source": [
    "#Training data\n",
    "X_train_pca = X_train.dot(W_PCA)\n",
    "# print(X_train_lda.shape)\n",
    "\n",
    "data=pd.DataFrame(X_train_pca)\n",
    "data['class']=y_train\n",
    "data.columns=[\"PC1\",\"PC2\",\"class\"]\n",
    "\n",
    "\n",
    "markers = ['s', 'x','o']\n",
    "sns.lmplot(x=\"PC1\", y=\"PC2\", data=data, markers=markers,fit_reg=False, hue='class', legend=True)\n",
    "plt.title(\"Training data\")\n",
    "plt.show()\n",
    "\n",
    "\n",
    "#Testing data\n",
    "X_test_pca = X_test.dot(W_PCA)\n",
    "# print(X_train_lda.shape)\n",
    "\n",
    "data=pd.DataFrame(X_test_pca)\n",
    "data['class']=y_test\n",
    "data.columns=[\"PC1\",\"PC2\",\"class\"]\n",
    "\n",
    "\n",
    "markers = ['s', 'x','o']\n",
    "sns.lmplot(x=\"PC1\", y=\"PC2\", data=data, markers=markers,fit_reg=False, hue='class', legend=True)\n",
    "plt.title(\"Testing data\")\n",
    "plt.show()"
   ]
  },
  {
   "cell_type": "markdown",
   "metadata": {},
   "source": [
    "##### Both PCA and LDA are linear transformation techniques. However, PCA is unsupervised while LDA is a supervised dimensionality reduction technique. PCA is used to find the principal components which explains the maximum variance in the dataset whereas LDA tries to account for best between class seperability while minimising the within class variance.\n",
    "\n",
    "##### PCA finds the axes with maximum variance for the whole data set where LDA tries to find the axes for best class seperability.\n",
    "\n",
    "##### This is seen by comparing the above images, where it can be clearly seen that the PCA graphs accounts for the most variance in the whole dataset,but the LDA graphs gives us the axes that account for the most variance between the three individual classes, ie, it can be viewed that while PCA gives the two PCs that maximise the variance within the whole dataset, but ignoring the between class distance, we can see that the LDA graphs produced shows the three class better seperated than in the PCA graph case. In addition, the three classes are also better clustered together, which shows minimses within class scatter."
   ]
  }
 ],
 "metadata": {
  "kernelspec": {
   "display_name": "Python 3",
   "language": "python",
   "name": "python3"
  },
  "language_info": {
   "codemirror_mode": {
    "name": "ipython",
    "version": 3
   },
   "file_extension": ".py",
   "mimetype": "text/x-python",
   "name": "python",
   "nbconvert_exporter": "python",
   "pygments_lexer": "ipython3",
   "version": "3.8.5"
  }
 },
 "nbformat": 4,
 "nbformat_minor": 2
}
